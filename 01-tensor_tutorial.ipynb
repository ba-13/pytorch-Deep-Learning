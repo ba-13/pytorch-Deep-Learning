{
 "cells": [
  {
   "cell_type": "markdown",
   "metadata": {},
   "source": [
    "\n",
    "# What is PyTorch?\n",
    "\n",
    "It’s a Python based scientific computing package targeted at two sets of audiences:\n",
    "\n",
    "-  Tensorial library that uses the power of GPUs\n",
    "-  A deep learning research platform that provides maximum flexibility and speed\n",
    "\n",
    "## Import the library"
   ]
  },
  {
   "cell_type": "code",
   "execution_count": 1,
   "metadata": {
    "ExecuteTime": {
     "end_time": "2021-09-26T10:58:08.336688Z",
     "start_time": "2021-09-26T10:58:07.866897Z"
    }
   },
   "outputs": [],
   "source": [
    "import torch  # <Ctrl> / <Shift> + <Return>"
   ]
  },
  {
   "cell_type": "markdown",
   "metadata": {},
   "source": [
    "## Getting help in Jupyter"
   ]
  },
  {
   "cell_type": "code",
   "execution_count": 2,
   "metadata": {
    "ExecuteTime": {
     "end_time": "2021-09-26T10:58:09.380172Z",
     "start_time": "2021-09-26T10:58:09.362163Z"
    }
   },
   "outputs": [],
   "source": [
    "# torch.sq  # <Tab>"
   ]
  },
  {
   "cell_type": "code",
   "execution_count": 3,
   "metadata": {
    "ExecuteTime": {
     "end_time": "2021-09-26T10:58:09.925101Z",
     "start_time": "2021-09-26T10:58:09.908634Z"
    }
   },
   "outputs": [],
   "source": [
    "# What about all `*Tensor`s?\n",
    "# Press <esc> to get out of help\n",
    "torch.*Tensor?"
   ]
  },
  {
   "cell_type": "code",
   "execution_count": 4,
   "metadata": {
    "ExecuteTime": {
     "end_time": "2021-09-26T10:58:10.268664Z",
     "start_time": "2021-09-26T10:58:10.251634Z"
    }
   },
   "outputs": [
    {
     "data": {
      "text/plain": [
       "Module()"
      ]
     },
     "execution_count": 4,
     "metadata": {},
     "output_type": "execute_result"
    }
   ],
   "source": [
    "torch.nn.Module()  # <Shift>+<Tab>"
   ]
  },
  {
   "cell_type": "code",
   "execution_count": 5,
   "metadata": {
    "ExecuteTime": {
     "end_time": "2021-09-26T10:58:12.092449Z",
     "start_time": "2021-09-26T10:58:12.051036Z"
    }
   },
   "outputs": [],
   "source": [
    "# Annotate your functions / classes!\n",
    "torch.nn.Module?"
   ]
  },
  {
   "cell_type": "code",
   "execution_count": 6,
   "metadata": {
    "ExecuteTime": {
     "end_time": "2021-09-26T10:58:13.884866Z",
     "start_time": "2021-09-26T10:58:13.706830Z"
    }
   },
   "outputs": [],
   "source": [
    "torch.nn.Module??"
   ]
  },
  {
   "cell_type": "markdown",
   "metadata": {},
   "source": [
    "## Dropping to Bash: magic!"
   ]
  },
  {
   "cell_type": "code",
   "execution_count": 7,
   "metadata": {
    "ExecuteTime": {
     "end_time": "2021-09-26T10:58:17.692656Z",
     "start_time": "2021-09-26T10:58:17.634666Z"
    },
    "scrolled": true
   },
   "outputs": [
    {
     "name": "stdout",
     "output_type": "stream",
     "text": [
      "total 2.4M\n",
      "-rw-r--r-- 1 bansh 197610  34K Sep 16 11:29 00-logic_neuron_programming.ipynb\n",
      "-rw-r--r-- 1 bansh 197610  42K Sep 26 15:51 01-tensor_tutorial.ipynb\n",
      "-rw-r--r-- 1 bansh 197610 1.5M Sep 17 13:59 02-space_stretching.ipynb\n",
      "-rw-r--r-- 1 bansh 197610 7.0K Sep 14 11:42 03-autograd_tutorial.ipynb\n",
      "-rw-r--r-- 1 bansh 197610 7.6K Sep 14 11:42 04-spiral_classification.ipynb\n",
      "-rw-r--r-- 1 bansh 197610 9.7K Sep 14 11:42 05-regression.ipynb\n",
      "-rw-r--r-- 1 bansh 197610  15K Sep 14 11:42 06-convnet.ipynb\n",
      "-rw-r--r-- 1 bansh 197610 9.0K Sep 14 11:42 07-listening_to_kernels.ipynb\n",
      "-rw-r--r-- 1 bansh 197610  24K Sep 14 11:42 08-seq_classification.ipynb\n",
      "-rw-r--r-- 1 bansh 197610 7.5K Sep 14 11:42 09-echo_data.ipynb\n",
      "-rw-r--r-- 1 bansh 197610 7.6K Sep 14 11:42 10-autoencoder.ipynb\n",
      "-rw-r--r-- 1 bansh 197610  11K Sep 14 11:42 11-VAE.ipynb\n",
      "-rw-r--r-- 1 bansh 197610  20K Sep 14 11:42 12-regularization.ipynb\n",
      "-rw-r--r-- 1 bansh 197610 4.6K Sep 14 11:42 13-bayesian_nn.ipynb\n",
      "-rw-r--r-- 1 bansh 197610  14K Sep 14 11:42 14-truck_backer-upper.ipynb\n",
      "-rw-r--r-- 1 bansh 197610  27K Sep 14 11:42 15-transformer.ipynb\n",
      "-rw-r--r-- 1 bansh 197610 605K Sep 14 11:42 16-gated_GCN.ipynb\n",
      "-rw-r--r-- 1 bansh 197610  285 Sep 14 11:42 LICENSE.md\n",
      "-rw-r--r-- 1 bansh 197610  181 Sep 16 11:33 Pipfile\n",
      "-rw-r--r-- 1 bansh 197610  55K Sep 16 11:33 Pipfile.lock\n",
      "-rw-r--r-- 1 bansh 197610 4.0K Sep 16 09:34 README.md\n",
      "-rw-r--r-- 1 bansh 197610   17 Sep 14 11:42 apt.txt\n",
      "drwxr-xr-x 1 bansh 197610    0 Sep 14 11:42 docs\n",
      "-rw-r--r-- 1 bansh 197610  294 Sep 14 11:42 environment.yml\n",
      "drwxr-xr-x 1 bansh 197610    0 Sep 14 11:42 extra\n",
      "drwxr-xr-x 1 bansh 197610    0 Sep 14 11:42 res\n",
      "drwxr-xr-x 1 bansh 197610    0 Sep 14 11:42 slides\n"
     ]
    }
   ],
   "source": [
    "# List all the files in the current directory\n",
    "!ls -lh"
   ]
  },
  {
   "cell_type": "code",
   "execution_count": 8,
   "metadata": {
    "ExecuteTime": {
     "end_time": "2021-09-26T10:58:19.921729Z",
     "start_time": "2021-09-26T10:58:18.627861Z"
    }
   },
   "outputs": [
    {
     "name": "stdout",
     "output_type": "stream",
     "text": [
      "676 00-logic_neuron_programming.ipynb\n",
      "1474 01-tensor_tutorial.ipynb\n",
      "429 02-space_stretching.ipynb\n",
      "331 03-autograd_tutorial.ipynb\n",
      "294 04-spiral_classification.ipynb\n",
      "362 05-regression.ipynb\n",
      "458 06-convnet.ipynb\n",
      "337 07-listening_to_kernels.ipynb\n",
      "660 08-seq_classification.ipynb\n",
      "255 09-echo_data.ipynb\n",
      "264 10-autoencoder.ipynb\n",
      "353 11-VAE.ipynb\n",
      "648 12-regularization.ipynb\n",
      "195 13-bayesian_nn.ipynb\n",
      "422 14-truck_backer-upper.ipynb\n",
      "772 15-transformer.ipynb\n",
      "1083 16-gated_GCN.ipynb\n",
      "1 apt.txt\n",
      "20 environment.yml\n",
      "4 LICENSE.md\n",
      "893 Pipfile.lock\n",
      "79 README.md\n"
     ]
    }
   ],
   "source": [
    "%%bash\n",
    "# List all the files but with cleaner outputs for readability\n",
    "for f in $(ls *.*); do\n",
    "    echo $(wc -l $f)\n",
    "done"
   ]
  },
  {
   "cell_type": "code",
   "execution_count": 9,
   "metadata": {
    "ExecuteTime": {
     "end_time": "2021-09-26T10:58:44.074286Z",
     "start_time": "2021-09-26T10:58:44.050562Z"
    }
   },
   "outputs": [],
   "source": [
    "# Getting some general help\n",
    "%magic"
   ]
  },
  {
   "cell_type": "markdown",
   "metadata": {},
   "source": [
    "## Python native data types\n",
    "\n",
    "Python has many native datatypes. Here are the important ones:\n",
    "\n",
    " - **Booleans** are either `True` or `False`.\n",
    " - **Numbers** can be integers (1 and 2), floats (1.1 and 1.2), fractions (1/2 and 2/3), or even complex numbers.\n",
    " - **Strings** are sequences of Unicode characters, e.g. an html document.\n",
    " - **Lists** are ordered sequences of values.\n",
    " - **Tuples** are ordered, immutable sequences of values.\n",
    " - **Sets** are unordered bags of values.\n",
    " - **Dictionaries** are unordered bags of key-value pairs.\n",
    " \n",
    "See [here](http://www.diveintopython3.net/native-datatypes.html) for a complete overview.\n",
    "\n",
    "### More resources\n",
    "\n",
    " 1. Brief Python introduction [here](https://learnxinyminutes.com/docs/python3/).\n",
    " 2. Full Python tutorial [here](https://docs.python.org/3/tutorial/).\n",
    " 3. A Whirlwind Tour of Python [here](https://github.com/jakevdp/WhirlwindTourOfPython).\n",
    " 4. Python Data Science Handbook [here](https://github.com/jakevdp/PythonDataScienceHandbook)."
   ]
  },
  {
   "cell_type": "markdown",
   "metadata": {},
   "source": [
    "## Torch!"
   ]
  },
  {
   "cell_type": "code",
   "execution_count": 10,
   "metadata": {
    "ExecuteTime": {
     "end_time": "2021-09-26T10:58:50.603897Z",
     "start_time": "2021-09-26T10:58:50.579805Z"
    }
   },
   "outputs": [
    {
     "data": {
      "text/plain": [
       "torch.Tensor"
      ]
     },
     "execution_count": 10,
     "metadata": {},
     "output_type": "execute_result"
    }
   ],
   "source": [
    "# Generate a tensor of size 2x3x4\n",
    "t = torch.Tensor(2, 3, 4)\n",
    "type(t)"
   ]
  },
  {
   "cell_type": "code",
   "execution_count": 11,
   "metadata": {
    "ExecuteTime": {
     "end_time": "2021-09-26T10:58:51.555760Z",
     "start_time": "2021-09-26T10:58:51.547774Z"
    }
   },
   "outputs": [
    {
     "data": {
      "text/plain": [
       "torch.Size([2, 3, 4])"
      ]
     },
     "execution_count": 11,
     "metadata": {},
     "output_type": "execute_result"
    }
   ],
   "source": [
    "# Get the size of the tensor\n",
    "t.size()"
   ]
  },
  {
   "cell_type": "code",
   "execution_count": 12,
   "metadata": {
    "ExecuteTime": {
     "end_time": "2021-09-26T10:58:54.546266Z",
     "start_time": "2021-09-26T10:58:54.532213Z"
    }
   },
   "outputs": [
    {
     "name": "stdout",
     "output_type": "stream",
     "text": [
      "t size: 2 × 3 × 4\n"
     ]
    }
   ],
   "source": [
    "# t.size() is a classic tuple =>\n",
    "print('t size:', ' \\u00D7 '.join(map(str, t.size())))"
   ]
  },
  {
   "cell_type": "code",
   "execution_count": null,
   "metadata": {
    "ExecuteTime": {
     "end_time": "2021-09-26T10:20:02.585747Z",
     "start_time": "2021-09-26T10:20:02.585747Z"
    }
   },
   "outputs": [],
   "source": [
    "# prints dimensional space and sub-dimensions\n",
    "print(f'point in a {t.numel()} dimensional space')\n",
    "print(f'organised in {t.dim()} sub-dimensions')"
   ]
  },
  {
   "cell_type": "code",
   "execution_count": null,
   "metadata": {
    "ExecuteTime": {
     "end_time": "2021-09-26T10:20:02.587745Z",
     "start_time": "2021-09-26T10:20:02.587745Z"
    }
   },
   "outputs": [],
   "source": [
    "t"
   ]
  },
  {
   "cell_type": "code",
   "execution_count": null,
   "metadata": {
    "ExecuteTime": {
     "end_time": "2021-09-26T10:20:02.589754Z",
     "start_time": "2021-09-26T10:20:02.589754Z"
    }
   },
   "outputs": [],
   "source": [
    "# Mind the underscore!\n",
    "#@l Any operation that mutates a tensor in-place is post-fixed with an _.\n",
    "# For example: x.copy_(y), x.t_(), x.random_(n) will change x.\n",
    "t.random_(10)"
   ]
  },
  {
   "cell_type": "code",
   "execution_count": null,
   "metadata": {
    "ExecuteTime": {
     "end_time": "2021-09-26T10:20:02.590745Z",
     "start_time": "2021-09-26T10:20:02.590745Z"
    }
   },
   "outputs": [],
   "source": [
    "t"
   ]
  },
  {
   "cell_type": "code",
   "execution_count": null,
   "metadata": {
    "ExecuteTime": {
     "end_time": "2021-09-26T10:20:02.591754Z",
     "start_time": "2021-09-26T10:20:02.591754Z"
    }
   },
   "outputs": [],
   "source": [
    "# This resizes the tensor permanently \n",
    "r = torch.Tensor(t)\n",
    "r.resize_(3, 8)\n",
    "r"
   ]
  },
  {
   "cell_type": "code",
   "execution_count": null,
   "metadata": {
    "ExecuteTime": {
     "end_time": "2021-09-26T10:20:02.592754Z",
     "start_time": "2021-09-26T10:20:02.592754Z"
    }
   },
   "outputs": [],
   "source": [
    "# As you can see zero_ would replace r with 0's which was originally filled with integers\n",
    "r.zero_()"
   ]
  },
  {
   "cell_type": "code",
   "execution_count": null,
   "metadata": {
    "ExecuteTime": {
     "end_time": "2021-09-26T10:20:02.592754Z",
     "start_time": "2021-09-26T10:20:02.592754Z"
    }
   },
   "outputs": [],
   "source": [
    "t"
   ]
  },
  {
   "cell_type": "code",
   "execution_count": null,
   "metadata": {
    "ExecuteTime": {
     "end_time": "2021-09-26T10:20:02.593745Z",
     "start_time": "2021-09-26T10:20:02.593745Z"
    }
   },
   "outputs": [],
   "source": [
    "?torch.clone"
   ]
  },
  {
   "cell_type": "code",
   "execution_count": null,
   "metadata": {
    "ExecuteTime": {
     "end_time": "2021-09-26T10:20:02.594755Z",
     "start_time": "2021-09-26T10:20:02.594755Z"
    }
   },
   "outputs": [],
   "source": [
    "# This *is* important, sigh...\n",
    "s = r.clone()"
   ]
  },
  {
   "cell_type": "code",
   "execution_count": null,
   "metadata": {
    "ExecuteTime": {
     "end_time": "2021-09-26T10:20:02.596754Z",
     "start_time": "2021-09-26T10:20:02.596754Z"
    }
   },
   "outputs": [],
   "source": [
    "# In-place fill of 1's\n",
    "s.fill_(1)\n",
    "s"
   ]
  },
  {
   "cell_type": "code",
   "execution_count": null,
   "metadata": {
    "ExecuteTime": {
     "end_time": "2021-09-26T10:20:02.597742Z",
     "start_time": "2021-09-26T10:20:02.597742Z"
    }
   },
   "outputs": [],
   "source": [
    "# Because we cloned r, even though we did an in-place operation, this doesn't affect r\n",
    "r"
   ]
  },
  {
   "cell_type": "markdown",
   "metadata": {},
   "source": [
    "## Vectors (1D Tensors)"
   ]
  },
  {
   "cell_type": "code",
   "execution_count": null,
   "metadata": {
    "ExecuteTime": {
     "end_time": "2021-09-26T10:20:02.598744Z",
     "start_time": "2021-09-26T10:20:02.598744Z"
    }
   },
   "outputs": [],
   "source": [
    "# Creates a 1D tensor of integers 1 to 4\n",
    "v = torch.Tensor([1, 2, 3, 4])\n",
    "v"
   ]
  },
  {
   "cell_type": "code",
   "execution_count": null,
   "metadata": {
    "ExecuteTime": {
     "end_time": "2021-09-26T10:20:02.600747Z",
     "start_time": "2021-09-26T10:20:02.600747Z"
    }
   },
   "outputs": [],
   "source": [
    "# Print number of dimensions (1D) and size of tensor\n",
    "print(f'dim: {v.dim()}, size: {v.size()[0]}')"
   ]
  },
  {
   "cell_type": "code",
   "execution_count": null,
   "metadata": {
    "ExecuteTime": {
     "end_time": "2021-09-26T10:20:02.602750Z",
     "start_time": "2021-09-26T10:20:02.602750Z"
    }
   },
   "outputs": [],
   "source": [
    "w = torch.Tensor([1, 0, 2, 0])\n",
    "w"
   ]
  },
  {
   "cell_type": "code",
   "execution_count": null,
   "metadata": {
    "ExecuteTime": {
     "end_time": "2021-09-26T10:20:02.603744Z",
     "start_time": "2021-09-26T10:20:02.603744Z"
    }
   },
   "outputs": [],
   "source": [
    "# Element-wise multiplication\n",
    "v * w"
   ]
  },
  {
   "cell_type": "code",
   "execution_count": null,
   "metadata": {
    "ExecuteTime": {
     "end_time": "2021-09-26T10:20:02.604746Z",
     "start_time": "2021-09-26T10:20:02.604746Z"
    }
   },
   "outputs": [],
   "source": [
    "# Scalar product: 1*1 + 2*0 + 3*2 + 4*0\n",
    "v @ w"
   ]
  },
  {
   "cell_type": "code",
   "execution_count": null,
   "metadata": {
    "ExecuteTime": {
     "end_time": "2021-09-26T10:20:02.605743Z",
     "start_time": "2021-09-26T10:20:02.605743Z"
    }
   },
   "outputs": [],
   "source": [
    "# In-place replacement of random number from 0 to 10\n",
    "x = torch.Tensor(5).random_(10)\n",
    "x"
   ]
  },
  {
   "cell_type": "code",
   "execution_count": null,
   "metadata": {
    "ExecuteTime": {
     "end_time": "2021-09-26T10:20:02.606745Z",
     "start_time": "2021-09-26T10:20:02.606745Z"
    }
   },
   "outputs": [],
   "source": [
    "print(f'first: {x[0]}, last: {x[-1]}')"
   ]
  },
  {
   "cell_type": "code",
   "execution_count": null,
   "metadata": {
    "ExecuteTime": {
     "end_time": "2021-09-26T10:20:02.608748Z",
     "start_time": "2021-09-26T10:20:02.608748Z"
    }
   },
   "outputs": [],
   "source": [
    "# Extract sub-Tensor [from:to)\n",
    "x[1:2 + 1]"
   ]
  },
  {
   "cell_type": "code",
   "execution_count": null,
   "metadata": {
    "ExecuteTime": {
     "end_time": "2021-09-26T10:20:02.609744Z",
     "start_time": "2021-09-26T10:20:02.609744Z"
    }
   },
   "outputs": [],
   "source": [
    "v"
   ]
  },
  {
   "cell_type": "code",
   "execution_count": null,
   "metadata": {
    "ExecuteTime": {
     "end_time": "2021-09-26T10:20:02.610744Z",
     "start_time": "2021-09-26T10:20:02.610744Z"
    }
   },
   "outputs": [],
   "source": [
    "# Create a tensor with integers ranging from 1 to 5, excluding 5\n",
    "v = torch.arange(1, 4 + 1)\n",
    "v"
   ]
  },
  {
   "cell_type": "code",
   "execution_count": null,
   "metadata": {
    "ExecuteTime": {
     "end_time": "2021-09-26T10:20:02.612744Z",
     "start_time": "2021-09-26T10:20:02.612744Z"
    }
   },
   "outputs": [],
   "source": [
    "# Square all elements in the tensor\n",
    "print(v.pow(2), v)"
   ]
  },
  {
   "cell_type": "markdown",
   "metadata": {},
   "source": [
    "## Matrices (2D Tensors)"
   ]
  },
  {
   "cell_type": "code",
   "execution_count": null,
   "metadata": {
    "ExecuteTime": {
     "end_time": "2021-09-26T10:20:02.613743Z",
     "start_time": "2021-09-26T10:20:02.613743Z"
    }
   },
   "outputs": [],
   "source": [
    "# Create a 2x4 tensor\n",
    "m = torch.Tensor([[2, 5, 3, 7],\n",
    "                  [4, 2, 1, 9]])\n",
    "m"
   ]
  },
  {
   "cell_type": "code",
   "execution_count": null,
   "metadata": {
    "ExecuteTime": {
     "end_time": "2021-09-26T10:20:02.614742Z",
     "start_time": "2021-09-26T10:20:02.614742Z"
    }
   },
   "outputs": [],
   "source": [
    "m.dim()"
   ]
  },
  {
   "cell_type": "code",
   "execution_count": null,
   "metadata": {
    "ExecuteTime": {
     "end_time": "2021-09-26T10:20:02.615745Z",
     "start_time": "2021-09-26T10:20:02.615745Z"
    }
   },
   "outputs": [],
   "source": [
    "print(m.size(0), m.size(1), m.size(), sep=' -- ')"
   ]
  },
  {
   "cell_type": "code",
   "execution_count": null,
   "metadata": {
    "ExecuteTime": {
     "end_time": "2021-09-26T10:20:02.617751Z",
     "start_time": "2021-09-26T10:20:02.617751Z"
    }
   },
   "outputs": [],
   "source": [
    "# Returns the total number of elements, hence num-el (number of elements)\n",
    "m.numel()"
   ]
  },
  {
   "cell_type": "code",
   "execution_count": null,
   "metadata": {
    "ExecuteTime": {
     "end_time": "2021-09-26T10:20:02.618746Z",
     "start_time": "2021-09-26T10:20:02.618746Z"
    }
   },
   "outputs": [],
   "source": [
    "# Indexing row 0, column 2 (0-indexed)\n",
    "m[0][2]"
   ]
  },
  {
   "cell_type": "code",
   "execution_count": null,
   "metadata": {
    "ExecuteTime": {
     "end_time": "2021-09-26T10:20:02.620747Z",
     "start_time": "2021-09-26T10:20:02.619749Z"
    }
   },
   "outputs": [],
   "source": [
    "# Indexing row 0, column 2 (0-indexed)\n",
    "m[0, 2]"
   ]
  },
  {
   "cell_type": "code",
   "execution_count": null,
   "metadata": {
    "ExecuteTime": {
     "end_time": "2021-09-26T10:20:02.621747Z",
     "start_time": "2021-09-26T10:20:02.621747Z"
    }
   },
   "outputs": [],
   "source": [
    "# Indexing column 1, all rows (returns size 2)\n",
    "m[:, 1]"
   ]
  },
  {
   "cell_type": "code",
   "execution_count": null,
   "metadata": {
    "ExecuteTime": {
     "end_time": "2021-09-26T10:20:02.622744Z",
     "start_time": "2021-09-26T10:20:02.622744Z"
    }
   },
   "outputs": [],
   "source": [
    "# Indexing column 1, all rows (returns size 2x2)\n",
    "m[:, [1]] #@l This is weird. Remember this one."
   ]
  },
  {
   "cell_type": "code",
   "execution_count": null,
   "metadata": {
    "ExecuteTime": {
     "end_time": "2021-09-26T10:20:02.624749Z",
     "start_time": "2021-09-26T10:20:02.624749Z"
    }
   },
   "outputs": [],
   "source": [
    "# Indexes row 0, all columns (returns 1x4)\n",
    "m[[0], :]"
   ]
  },
  {
   "cell_type": "code",
   "execution_count": null,
   "metadata": {
    "ExecuteTime": {
     "end_time": "2021-09-26T10:20:02.625747Z",
     "start_time": "2021-09-26T10:20:02.625747Z"
    }
   },
   "outputs": [],
   "source": [
    "# Indexes row 0, all columns (returns size 4)\n",
    "m[0, :]"
   ]
  },
  {
   "cell_type": "code",
   "execution_count": null,
   "metadata": {
    "ExecuteTime": {
     "end_time": "2021-09-26T10:20:02.626746Z",
     "start_time": "2021-09-26T10:20:02.626746Z"
    }
   },
   "outputs": [],
   "source": [
    "# Create tensor of numbers from 1 to 5 (excluding 5)\n",
    "v = torch.arange(1., 4 + 1)\n",
    "v"
   ]
  },
  {
   "cell_type": "code",
   "execution_count": null,
   "metadata": {
    "ExecuteTime": {
     "end_time": "2021-09-26T10:20:02.628745Z",
     "start_time": "2021-09-26T10:20:02.628745Z"
    }
   },
   "outputs": [],
   "source": [
    "m"
   ]
  },
  {
   "cell_type": "code",
   "execution_count": null,
   "metadata": {
    "ExecuteTime": {
     "end_time": "2021-09-26T10:20:02.629744Z",
     "start_time": "2021-09-26T10:20:02.629744Z"
    }
   },
   "outputs": [],
   "source": [
    "#@l Scalar product - @ symbol\n",
    "m @ v"
   ]
  },
  {
   "cell_type": "code",
   "execution_count": null,
   "metadata": {
    "ExecuteTime": {
     "end_time": "2021-09-26T10:20:02.630751Z",
     "start_time": "2021-09-26T10:20:02.630751Z"
    }
   },
   "outputs": [],
   "source": [
    "# Calculated by 1*2 + 2*5 + 3*3 + 4*7\n",
    "m[[0], :] @ v"
   ]
  },
  {
   "cell_type": "code",
   "execution_count": null,
   "metadata": {
    "ExecuteTime": {
     "end_time": "2021-09-26T10:20:02.632746Z",
     "start_time": "2021-09-26T10:20:02.632746Z"
    }
   },
   "outputs": [],
   "source": [
    "# Calculated by \n",
    "m[[1], :] @ v"
   ]
  },
  {
   "cell_type": "code",
   "execution_count": null,
   "metadata": {
    "ExecuteTime": {
     "end_time": "2021-09-26T10:20:02.633747Z",
     "start_time": "2021-09-26T10:20:02.633747Z"
    }
   },
   "outputs": [],
   "source": [
    "# Add a random tensor of size 2x4 to m\n",
    "m + torch.rand(2, 4)"
   ]
  },
  {
   "cell_type": "code",
   "execution_count": null,
   "metadata": {
    "ExecuteTime": {
     "end_time": "2021-09-26T10:20:02.635748Z",
     "start_time": "2021-09-26T10:20:02.635748Z"
    }
   },
   "outputs": [],
   "source": [
    "# Subtract a random tensor of size 2x4 to m\n",
    "m - torch.rand(2, 4)"
   ]
  },
  {
   "cell_type": "code",
   "execution_count": null,
   "metadata": {
    "ExecuteTime": {
     "end_time": "2021-09-26T10:20:02.636746Z",
     "start_time": "2021-09-26T10:20:02.636746Z"
    }
   },
   "outputs": [],
   "source": [
    "# Multiply a random tensor of size 2x4 to m\n",
    "m * torch.rand(2, 4)"
   ]
  },
  {
   "cell_type": "code",
   "execution_count": null,
   "metadata": {
    "ExecuteTime": {
     "end_time": "2021-09-26T10:20:02.637744Z",
     "start_time": "2021-09-26T10:20:02.637744Z"
    }
   },
   "outputs": [],
   "source": [
    "# Divide m by a random tensor of size 2x4\n",
    "m / torch.rand(2, 4)"
   ]
  },
  {
   "cell_type": "code",
   "execution_count": null,
   "metadata": {
    "ExecuteTime": {
     "end_time": "2021-09-26T10:20:02.639748Z",
     "start_time": "2021-09-26T10:20:02.639748Z"
    }
   },
   "outputs": [],
   "source": [
    "m.size()"
   ]
  },
  {
   "cell_type": "code",
   "execution_count": null,
   "metadata": {
    "ExecuteTime": {
     "end_time": "2021-09-26T10:20:02.640749Z",
     "start_time": "2021-09-26T10:20:02.640749Z"
    }
   },
   "outputs": [],
   "source": [
    "# Transpose tensor m, which is essentially 2x4 to 4x2\n",
    "m.t()"
   ]
  },
  {
   "cell_type": "code",
   "execution_count": null,
   "metadata": {
    "ExecuteTime": {
     "end_time": "2021-09-26T10:20:02.641750Z",
     "start_time": "2021-09-26T10:20:02.641750Z"
    }
   },
   "outputs": [],
   "source": [
    "# Same as\n",
    "m.transpose(0, 1) #@l This is strange again"
   ]
  },
  {
   "cell_type": "markdown",
   "metadata": {},
   "source": [
    "## Constructors"
   ]
  },
  {
   "cell_type": "code",
   "execution_count": null,
   "metadata": {
    "ExecuteTime": {
     "end_time": "2021-09-26T10:20:02.642753Z",
     "start_time": "2021-09-26T10:20:02.642753Z"
    }
   },
   "outputs": [],
   "source": [
    "# Create tensor from 3 to 8, with each having a space of 1\n",
    "torch.arange(3., 8 + 1)"
   ]
  },
  {
   "cell_type": "code",
   "execution_count": null,
   "metadata": {
    "ExecuteTime": {
     "end_time": "2021-09-26T10:20:02.644750Z",
     "start_time": "2021-09-26T10:20:02.644750Z"
    }
   },
   "outputs": [],
   "source": [
    "# Create tensor from 5.7 to -2.1 with each having a space of -3\n",
    "torch.arange(5.7, -2.1, -3)"
   ]
  },
  {
   "cell_type": "code",
   "execution_count": null,
   "metadata": {
    "ExecuteTime": {
     "end_time": "2021-09-26T10:20:02.645753Z",
     "start_time": "2021-09-26T10:20:02.645753Z"
    }
   },
   "outputs": [],
   "source": [
    "# returns a 1D tensor of steps equally spaced points between start=3, end=8 and steps=20\n",
    "torch.linspace(3, 8, 20).view(1, -1) #@q What does view do?"
   ]
  },
  {
   "cell_type": "code",
   "execution_count": null,
   "metadata": {
    "ExecuteTime": {
     "end_time": "2021-09-26T10:20:02.646750Z",
     "start_time": "2021-09-26T10:20:02.646750Z"
    }
   },
   "outputs": [],
   "source": [
    "# Create a tensor filled with 0's\n",
    "torch.zeros(3, 5)"
   ]
  },
  {
   "cell_type": "code",
   "execution_count": null,
   "metadata": {
    "ExecuteTime": {
     "end_time": "2021-09-26T10:20:02.647750Z",
     "start_time": "2021-09-26T10:20:02.647750Z"
    }
   },
   "outputs": [],
   "source": [
    "# Create a tensor filled with 1's\n",
    "torch.ones(3, 2, 5)"
   ]
  },
  {
   "cell_type": "code",
   "execution_count": null,
   "metadata": {
    "ExecuteTime": {
     "end_time": "2021-09-26T10:20:02.648751Z",
     "start_time": "2021-09-26T10:20:02.648751Z"
    }
   },
   "outputs": [],
   "source": [
    "# Create a tensor with the diagonal filled with 1\n",
    "torch.eye(3)"
   ]
  },
  {
   "cell_type": "code",
   "execution_count": null,
   "metadata": {
    "ExecuteTime": {
     "end_time": "2021-09-26T10:20:02.650749Z",
     "start_time": "2021-09-26T10:20:02.650749Z"
    }
   },
   "outputs": [],
   "source": [
    "# Set default plots\n",
    "from res.plot_lib import set_default\n",
    "from matplotlib import pyplot as plt\n",
    "set_default()"
   ]
  },
  {
   "cell_type": "code",
   "execution_count": null,
   "metadata": {
    "ExecuteTime": {
     "end_time": "2021-09-26T10:20:02.651754Z",
     "start_time": "2021-09-26T10:20:02.651754Z"
    }
   },
   "outputs": [],
   "source": [
    "torch.randn(1000).numpy() #.numpy() transforms the array to a np arr!"
   ]
  },
  {
   "cell_type": "code",
   "execution_count": null,
   "metadata": {
    "ExecuteTime": {
     "end_time": "2021-09-26T10:20:02.652753Z",
     "start_time": "2021-09-26T10:20:02.652753Z"
    }
   },
   "outputs": [],
   "source": [
    "# Numpy bridge!\n",
    "plt.hist(torch.randn(1000).numpy(), 100);"
   ]
  },
  {
   "cell_type": "code",
   "execution_count": null,
   "metadata": {
    "ExecuteTime": {
     "end_time": "2021-09-26T10:20:02.653753Z",
     "start_time": "2021-09-26T10:20:02.653753Z"
    }
   },
   "outputs": [],
   "source": [
    "?torch.rand"
   ]
  },
  {
   "cell_type": "code",
   "execution_count": null,
   "metadata": {
    "ExecuteTime": {
     "end_time": "2021-09-26T10:20:02.655749Z",
     "start_time": "2021-09-26T10:20:02.655749Z"
    },
    "scrolled": true
   },
   "outputs": [],
   "source": [
    "plt.hist(torch.randn(10**6).numpy(), 1000, rasterized=True);  # how much does this chart weight?\n",
    "# use rasterized=True for SVG/EPS/PDF!"
   ]
  },
  {
   "cell_type": "code",
   "execution_count": null,
   "metadata": {
    "ExecuteTime": {
     "end_time": "2021-09-26T10:20:02.656744Z",
     "start_time": "2021-09-26T10:20:02.656744Z"
    }
   },
   "outputs": [],
   "source": [
    "plt.hist(torch.rand(10**6).numpy(), 10000);"
   ]
  },
  {
   "cell_type": "markdown",
   "metadata": {},
   "source": [
    "## Casting"
   ]
  },
  {
   "cell_type": "code",
   "execution_count": null,
   "metadata": {
    "ExecuteTime": {
     "end_time": "2021-09-26T10:20:02.657748Z",
     "start_time": "2021-09-26T10:20:02.657748Z"
    }
   },
   "outputs": [],
   "source": [
    "# Helper to get what kind of tensor types\n",
    "torch.*Tensor?"
   ]
  },
  {
   "cell_type": "code",
   "execution_count": null,
   "metadata": {
    "ExecuteTime": {
     "end_time": "2021-09-26T10:20:02.659747Z",
     "start_time": "2021-09-26T10:20:02.659747Z"
    }
   },
   "outputs": [],
   "source": [
    "m"
   ]
  },
  {
   "cell_type": "code",
   "execution_count": null,
   "metadata": {
    "ExecuteTime": {
     "end_time": "2021-09-26T10:20:02.660745Z",
     "start_time": "2021-09-26T10:20:02.660745Z"
    }
   },
   "outputs": [],
   "source": [
    "# This is basically a 64 bit float tensor\n",
    "m_double = m.double()\n",
    "m_double"
   ]
  },
  {
   "cell_type": "code",
   "execution_count": null,
   "metadata": {
    "ExecuteTime": {
     "end_time": "2021-09-26T10:20:02.661753Z",
     "start_time": "2021-09-26T10:20:02.661753Z"
    }
   },
   "outputs": [],
   "source": [
    "a = torch.Tensor([65, 1, 2, 3, 257])\n",
    "a"
   ]
  },
  {
   "cell_type": "code",
   "execution_count": null,
   "metadata": {
    "ExecuteTime": {
     "end_time": "2021-09-26T10:20:02.663746Z",
     "start_time": "2021-09-26T10:20:02.663746Z"
    }
   },
   "outputs": [],
   "source": [
    "a_byte = a.byte()\n",
    "a_byte"
   ]
  },
  {
   "cell_type": "code",
   "execution_count": null,
   "metadata": {
    "ExecuteTime": {
     "end_time": "2021-09-26T10:20:02.664745Z",
     "start_time": "2021-09-26T10:20:02.664745Z"
    }
   },
   "outputs": [],
   "source": [
    "# This creates a tensor of type int8\n",
    "m_byte = m.byte()\n",
    "m_byte"
   ]
  },
  {
   "cell_type": "code",
   "execution_count": null,
   "metadata": {
    "ExecuteTime": {
     "end_time": "2021-09-26T10:20:02.665745Z",
     "start_time": "2021-09-26T10:20:02.665745Z"
    }
   },
   "outputs": [],
   "source": [
    "# Move your tensor to GPU device 0 if there is one (first GPU in the system)\n",
    "print(f\"cuda is \" + str(torch.cuda.is_available()).lower() + \"ly available\")\n",
    "device = torch.device(\"cuda:0\" if torch.cuda.is_available() else \"cpu\")\n",
    "m.to(device)"
   ]
  },
  {
   "cell_type": "code",
   "execution_count": null,
   "metadata": {
    "ExecuteTime": {
     "end_time": "2021-09-26T10:20:02.666746Z",
     "start_time": "2021-09-26T10:20:02.666746Z"
    }
   },
   "outputs": [],
   "source": [
    "# Converts tensor to numpy array\n",
    "m_np = m.numpy()\n",
    "m_np"
   ]
  },
  {
   "cell_type": "code",
   "execution_count": null,
   "metadata": {
    "ExecuteTime": {
     "end_time": "2021-09-26T10:20:02.668745Z",
     "start_time": "2021-09-26T10:20:02.668745Z"
    }
   },
   "outputs": [],
   "source": [
    "# In-place fill of column 0 and row 0 with value -1\n",
    "m_np[0, 0] = -1\n",
    "m_np"
   ]
  },
  {
   "cell_type": "code",
   "execution_count": null,
   "metadata": {
    "ExecuteTime": {
     "end_time": "2021-09-26T10:20:02.669747Z",
     "start_time": "2021-09-26T10:20:02.669747Z"
    }
   },
   "outputs": [],
   "source": [
    "m"
   ]
  },
  {
   "cell_type": "code",
   "execution_count": null,
   "metadata": {
    "ExecuteTime": {
     "end_time": "2021-09-26T10:20:02.670751Z",
     "start_time": "2021-09-26T10:20:02.670751Z"
    }
   },
   "outputs": [],
   "source": [
    "# Create a tensor of integers ranging from 0 to 4\n",
    "import numpy as np\n",
    "n_np = np.arange(5)\n",
    "n = torch.from_numpy(n_np)\n",
    "print(n_np, n, sep=\" -- \")"
   ]
  },
  {
   "cell_type": "code",
   "execution_count": null,
   "metadata": {
    "ExecuteTime": {
     "end_time": "2021-09-26T10:20:02.671750Z",
     "start_time": "2021-09-26T10:20:02.671750Z"
    }
   },
   "outputs": [],
   "source": [
    "# In-place multiplication of all elements by 2 for tensor n\n",
    "# Because n is essentiall n_np, not a clone, this affects n_np\n",
    "n.mul_(2)\n",
    "n_np"
   ]
  },
  {
   "cell_type": "markdown",
   "metadata": {},
   "source": [
    "## More fun"
   ]
  },
  {
   "cell_type": "code",
   "execution_count": null,
   "metadata": {
    "ExecuteTime": {
     "end_time": "2021-09-26T10:20:02.673748Z",
     "start_time": "2021-09-26T10:20:02.673748Z"
    }
   },
   "outputs": [],
   "source": [
    "# Creates two tensor of size 1x4\n",
    "a = torch.Tensor([[1, 2, 3, 4]])\n",
    "b = torch.Tensor([[5, 6, 7, 8]])\n",
    "print(a.size(), b)"
   ]
  },
  {
   "cell_type": "code",
   "execution_count": null,
   "metadata": {
    "ExecuteTime": {
     "end_time": "2021-09-26T10:20:02.674745Z",
     "start_time": "2021-09-26T10:20:02.674745Z"
    }
   },
   "outputs": [],
   "source": [
    "# Concatenate on axis 0, so you get 2x4\n",
    "torch.cat((a, b), 0)"
   ]
  },
  {
   "cell_type": "code",
   "execution_count": null,
   "metadata": {
    "ExecuteTime": {
     "end_time": "2021-09-26T10:20:02.675744Z",
     "start_time": "2021-09-26T10:20:02.675744Z"
    }
   },
   "outputs": [],
   "source": [
    "# Concatenate on axis 1, so you get 1x8\n",
    "torch.cat((a, b), 1)"
   ]
  },
  {
   "cell_type": "markdown",
   "metadata": {},
   "source": [
    "## Much more\n",
    "\n",
    "There's definitely much more, but this was the basics about `Tensor`s fun.\n",
    "\n",
    "*Torch* full API should be read at least once.\n",
    "Hence, go [here](https://pytorch.org/docs/stable/index.html).\n",
    "You'll find 100+ `Tensor` operations, including transposing, indexing, slicing, mathematical operations, linear algebra, random numbers, etc are described."
   ]
  }
 ],
 "metadata": {
  "kernelspec": {
   "display_name": "Python 3 (ipykernel)",
   "language": "python",
   "name": "python3"
  },
  "language_info": {
   "codemirror_mode": {
    "name": "ipython",
    "version": 3
   },
   "file_extension": ".py",
   "mimetype": "text/x-python",
   "name": "python",
   "nbconvert_exporter": "python",
   "pygments_lexer": "ipython3",
   "version": "3.9.5"
  }
 },
 "nbformat": 4,
 "nbformat_minor": 4
}
